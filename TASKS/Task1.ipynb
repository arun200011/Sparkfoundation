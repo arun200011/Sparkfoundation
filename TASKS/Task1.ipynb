import pandas as pd
from sklearn.linear_model import LinearRegression

## Load the data from the CSV file
data_url = 'https://raw.githubusercontent.com/AdiPersonalWorks/Random/master/student_scores%20-%20student_scores.csv'
data = pd.read_csv(data_url)

## Split the data into input (study hours) and output (scores) variables
X = data.iloc[:, :-1].values
y = data.iloc[:, 1].values


#3 Create a linear regression model and fit the data
regressor = LinearRegression()
regressor.fit(X, y)

## Get input study hours from the user
study_hours = float(input("Enter the number of study hours: "))

#3 Predict the score for the given study hours
predicted_score = regressor.predict([[study_hours]])

print("Predicted score for studying", study_hours, "hours/day:", predicted_score[0])

## Predict the score for a student studying 9.25 hours/day
hours = [[9.25]]
predicted_score = regressor.predict(hours)

print("Predicted score for studying 9.25 hours/day:", predicted_score[0])
