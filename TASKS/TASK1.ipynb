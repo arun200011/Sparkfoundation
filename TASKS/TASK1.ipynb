{
 "cells": [
  {
   "cell_type": "code",
   "execution_count": 2,
   "id": "853bfb83",
   "metadata": {},
   "outputs": [],
   "source": [
    "import pandas as pd\n",
    "from sklearn.linear_model import LinearRegression\n",
    "\n",
    "# Load the data from the CSV file\n",
    "data_url = 'https://raw.githubusercontent.com/AdiPersonalWorks/Random/master/student_scores%20-%20student_scores.csv'\n",
    "data = pd.read_csv(data_url)"
   ]
  },
  {
   "cell_type": "code",
   "execution_count": 3,
   "id": "5f45e041",
   "metadata": {},
   "outputs": [],
   "source": [
    "# Split the data into input (study hours) and output (scores) variables\n",
    "X = data.iloc[:, :-1].values\n",
    "y = data.iloc[:, 1].values\n",
    "\n"
   ]
  },
  {
   "cell_type": "code",
   "execution_count": 12,
   "id": "443364f7",
   "metadata": {},
   "outputs": [
    {
     "data": {
      "text/plain": [
       "LinearRegression()"
      ]
     },
     "execution_count": 12,
     "metadata": {},
     "output_type": "execute_result"
    }
   ],
   "source": [
    "# Create a linear regression model and fit the data\n",
    "regressor = LinearRegression()\n",
    "regressor.fit(X, y)"
   ]
  },
  {
   "cell_type": "code",
   "execution_count": 18,
   "id": "e5e58695",
   "metadata": {},
   "outputs": [
    {
     "name": "stdout",
     "output_type": "stream",
     "text": [
      "Enter the number of study hours: 6\n",
      "Predicted score for studying 6.0 hours/day: 61.13849375009802\n"
     ]
    }
   ],
   "source": [
    "# Get input study hours from the user\n",
    "study_hours = float(input(\"Enter the number of study hours: \"))\n",
    "\n",
    "# Predict the score for the given study hours\n",
    "predicted_score = regressor.predict([[study_hours]])\n",
    "\n",
    "print(\"Predicted score for studying\", study_hours, \"hours/day:\", predicted_score[0])"
   ]
  },
  {
   "cell_type": "code",
   "execution_count": 16,
   "id": "f3c9031e",
   "metadata": {},
   "outputs": [
    {
     "name": "stdout",
     "output_type": "stream",
     "text": [
      "Predicted score for studying 9.25 hours/day: 92.90985477015731\n"
     ]
    }
   ],
   "source": [
    "# Predict the score for a student studying 9.25 hours/day\n",
    "hours = [[9.25]]\n",
    "predicted_score = regressor.predict(hours)\n",
    "\n",
    "print(\"Predicted score for studying 9.25 hours/day:\", predicted_score[0])"
   ]
  }
 ],
 "metadata": {
  "kernelspec": {
   "display_name": "Python 3 (ipykernel)",
   "language": "python",
   "name": "python3"
  },
  "language_info": {
   "codemirror_mode": {
    "name": "ipython",
    "version": 3
   },
   "file_extension": ".py",
   "mimetype": "text/x-python",
   "name": "python",
   "nbconvert_exporter": "python",
   "pygments_lexer": "ipython3",
   "version": "3.9.12"
  }
 },
 "nbformat": 4,
 "nbformat_minor": 5
}
